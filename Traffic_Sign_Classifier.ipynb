# %% [markdown]
# # Self-Driving Car Engineer Nanodegree
#
# ## Deep Learning
#
# ## Project: Build a Traffic Sign Recognition Classifier
#
# In this notebook, a template is provided for you to implement your functionality in stages, which is required to successfully complete this project. If additional code is required that cannot be included in the notebook, be sure that the Python code is successfully imported and included in your submission if necessary.
#
# > **Note**: Once you have completed all of the code implementations, you need to finalize your work by exporting the iPython Notebook as an HTML document. Before exporting the notebook to html, all of the code cells need to have been run so that reviewers can see the final implementation and output. You can then export the notebook by using the menu above and navigating to  \n",
#     "**File -> Download as -> HTML (.html)**. Include the finished document along with this notebook as your submission.
#
# In addition to implementing code, there is a writeup to complete. The writeup should be completed in a separate file, which can be either a markdown file or a pdf document. There is a [write up template](https://github.com/udacity/CarND-Traffic-Sign-Classifier-Project/blob/master/writeup_template.md) that can be used to guide the writing process. Completing the code template and writeup template will cover all of the [rubric points](https://review.udacity.com/#!/rubrics/481/view) for this project.
#
# The [rubric](https://review.udacity.com/#!/rubrics/481/view) contains "Stand Out Suggestions" for enhancing the project beyond the minimum requirements. The stand out suggestions are optional. If you decide to pursue the "stand out suggestions", you can include the code in this Ipython notebook and also discuss the results in the writeup file.
#
#
# >**Note:** Code and Markdown cells can be executed using the **Shift + Enter** keyboard shortcut. In addition, Markdown cells can be edited by typically double-clicking the cell to enter edit mode.
# %% [markdown]
# ---
# ## Step 0: Load The Data

from scipy.interpolate import interpolate
import glob
import matplotlib.image as mpimg
from tensorflow.contrib.layers import flatten
from sklearn.model_selection import train_test_split
import tensorflow as tf
from sklearn.utils import shuffle
from sklearn import preprocessing
import random
import csv
import cv2
import os
try:
    os.chdir(os.path.join(os.getcwd(), 'Github'))
    print(os.getcwd())
except:
    pass

# Load pickled data
import numpy as np
import matplotlib.pyplot as plt
import pickle

# TODO: Fill this in based on where you saved the training and testing data

training_file = ("../data/train.p")
validation_file = ("../data/valid.p")
testing_file = ("../data/test.p")

with open(training_file, mode='rb') as f:
    train = pickle.load(f)
with open(validation_file, mode='rb') as f:
    valid = pickle.load(f)
with open(testing_file, mode='rb') as f:
    test = pickle.load(f)

X_train, y_train = train['features'], train['labels']
X_valid, y_valid = valid['features'], valid['labels']
X_test, y_test = test['features'], test['labels']

# %% [markdown]
# ---
#
# ## Step 1: Dataset Summary & Exploration
#
# The pickled data is a dictionary with 4 key/value pairs:
#
# - `'features'` is a 4D array containing raw pixel data of the traffic sign images, (num examples, width, height, channels).
# - `'labels'` is a 1D array containing the label/class id of the traffic sign. The file `signnames.csv` contains id -> name mappings for each id.
# - `'sizes'` is a list containing tuples, (width, height) representing the original width and height of the image.
# - `'coords'` is a list containing tuples, (x1, y1, x2, y2) representing coordinates of a bounding box around the sign in the image. **THESE COORDINATES ASSUME THE ORIGINAL IMAGE. THE PICKLED DATA CONTAINS RESIZED VERSIONS (32 by 32) OF THESE IMAGES**
#
# Complete the basic data summary below. Use python, numpy and/or pandas methods to calculate the data summary rather than hard coding the results. For example, the [pandas shape method](http://pandas.pydata.org/pandas-docs/stable/generated/pandas.DataFrame.shape.html) might be useful for calculating some of the summary results.
# %% [markdown]
# ### Provide a Basic Summary of the Data Set Using Python, Numpy and/or Pandas

# %%
# Replace each question mark with the appropriate value.
# Use python, pandas or numpy methods rather than hard coding the results

# TODO: Number of training examples
n_train = y_train.shape[0]

# TODO: Number of validation examples
n_validation = y_valid.shape[0]

# TODO: Number of testing examples.
n_test = y_test.shape[0]

# TODO: What's the shape of an traffic sign image?
image_shape = X_train.shape[1:]

# TODO: How many unique classes/labels there are in the dataset.
n_classes = 43

print("Number of training examples =", n_train)
print("Number of testing examples =", n_test)
print("Image data shape =", image_shape)
print("Number of classes =", n_classes)

# %% [markdown]
# ### Include an exploratory visualization of the dataset

# Visualize the German Traffic Signs Dataset using the pickled file(s). This is open ended, suggestions include: plotting traffic sign images, plotting the count of each sign, etc.
#
# The [Matplotlib](http://matplotlib.org/) [examples](http://matplotlib.org/examples/index.html) and [gallery](http://matplotlib.org/gallery.html) pages are a great resource for doing visualizations in Python.
#
# **NOTE:** It's recommended you start with something simple first. If you wish to do more, come back to it after you've completed the rest of the sections. It can be interesting to look at the distribution of classes in the training, validation and test set. Is the distribution the same? Are there more examples of some classes than others?

# %%
# Data exploration visualization code goes here.
# Feel free to use as many code cells as needed.
# Visualizations will be shown in the notebook.

%matplotlib inline
get_ipython().run_line_magic('matplotlib', 'inline')

# Visualization: Show the number of signs per row with random traffic signs
plt.figure(figsize=(15, 15))
num__traffic_signs = 10
for column in range(1, num__traffic_signs + 1):
    index = random.randint(0, len(X_train))
    image = X_train[index].squeeze()
    plt.subplot(1, num__traffic_signs, column)
    plt.imshow(image)


# Plot normalized historgram for distribution
plt.figure(figsize=(10, 5))
bins = 43
plt.title("Normalized Distribution Traffic Sign Classes")
plt.hist([y_train, y_valid, y_test], bins, stacked=False,
         normed=True, label=['Train', 'Validation', 'Test'])
plt.xlabel("Traffic Sign Training Set")
plt.legend()
plt.show
# %% [markdown]
# ----
#
# ## Step 2: Design and Test a Model Architecture
#
# Design and implement a deep learning model that learns to recognize traffic signs. Train and test your model on the [German Traffic Sign Dataset](http://benchmark.ini.rub.de/?section=gtsrb&subsection=dataset).
#
# The LeNet-5 implementation shown in the [classroom](https://classroom.udacity.com/nanodegrees/nd013/parts/fbf77062-5703-404e-b60c-95b78b2f3f9e/modules/6df7ae49-c61c-4bb2-a23e-6527e69209ec/lessons/601ae704-1035-4287-8b11-e2c2716217ad/concepts/d4aca031-508f-4e0b-b493-e7b706120f81) at the end of the CNN lesson is a solid starting point. You'll have to change the number of classes and possibly the preprocessing, but aside from that it's plug and play!
#
# With the LeNet-5 solution from the lecture, you should expect a validation set accuracy of about 0.89. To meet specifications, the validation set accuracy will need to be at least 0.93. It is possible to get an even higher accuracy, but 0.93 is the minimum for a successful project submission.
#
# There are various aspects to consider when thinking about this problem:
#
# - Neural network architecture (is the network over or underfitting?)
# - Play around preprocessing techniques (normalization, rgb to grayscale, etc)
# - Number of examples per label (some have more than others).
# - Generate fake data.
#
# Here is an example of a [published baseline model on this problem](http://yann.lecun.com/exdb/publis/pdf/sermanet-ijcnn-11.pdf). It's not required to be familiar with the approach used in the paper but, it's good practice to try to read papers like these.
# %% [markdown]
# ### Pre-process the Data Set (normalization, grayscale, etc.)
# %% [markdown]
# Minimally, the image data should be normalized so that the data has mean zero and equal variance. For image data, `(pixel - 128)/ 128` is a quick way to approximately normalize the data and can be used in this project.
#
# Other pre-processing steps are optional. You can try different techniques to see if it improves performance.
#
# Use the code cell (or multiple code cells, if necessary) to implement the first step of your project.

# %%
# Preprocess the data here. It is required to normalize the data. Other preprocessing steps could include
# converting to grayscale, etc.
# Feel free to use as many code cells as needed.

X_train, X_valid, y_train, y_valid = train_test_split(
    X_train, y_train, test_size=0.2, random_state=0)

print("Updated Image Shape: {}".format(X_train[0].shape))

def rgb2gray(X):
    # convert to grayscale
    return np.mean(X, axis=3, keepdims=True)

# Normalize data set (original training images)
def normalize(X):
    a = 0
    b = 1.0
    return a + X * (b-a) / 255

X_train_norm = (X_train - X_train.mean()) / (np.max(X_train) - np.min(X_train))
X_test_norm = (X_test - X_test.mean()) / (np.max(X_test) - np.min(X_test))
X_valid_norm = (X_valid - X_valid.mean()) / (np.max(X_valid) - np.min(X_valid))

# Assign normalized data to original
X_train = X_train_norm
X_test = X_test_norm
X_valid = X_valid_norm


from skimage.color import gray2rgb

def plot_image(image, nr, nc, i, gray=False, xlabel="",ylabel=""):
    """
    If 'i' is greater than 0, then plot this image as 
    a subplot of a larger plot.
    """
    
    if i>0: 
        plt.subplot(nr, nc, i)
    else:
        plt.figure(figsize=(nr,nc))
        
    plt.xticks(())
    plt.yticks(())
    plt.xlabel(xlabel)
    if i % nc == 1:
        plt.ylabel(ylabel)
    plt.tight_layout()
    if gray:
        image_rgb = gray2rgb(image)
        image_rgb = image_rgb.transpose((2,1,0))
        image_rgb = image_rgb.reshape((32,32,3))
        plt.imshow(image_rgb, cmap="gray")
    else:
        plt.imshow(image)

labels = [38,17,1,14,13]
count = 0
for p,i in zip(labels,range(len(labels))):
    index = np.where(train["labels"]==p)
    for j in range(4):
        label = "class={}".format(str(labels[i]))
        plot_image(train["features"][index[0][j],:,:,:],len(labels),4,count+1,ylabel=label)
        count+=1


# preprocess pipeline
def preprocessed(X, test_set=False):
    new_img = rgb2gray(X)
    new_img = normalize(X)

    return new_img

# Presprocess the images
X_train_processed = preprocessed(X_train)
X_test_processed = preprocessed(X_test)

inputs_train_valid, labels_train_valid = map(np.array, zip(*np.random.permutation(list(zip(X_train_processed, y_train)))))


# Shuffle the training data

X_train, y_train = shuffle(X_train, y_train)

# Setup TensorFlow

# Hyperparameters
EPOCHS = 60
BATCH_SIZE = 128

# %% [markdown]
# ### Model Architecture


def LeNet(x, keep_prob):

    # args used for tf.truncated_normal, randomly defines variables for the weights and biases for each layer
    mu = 0
    sigma = 0.1

    # Solution Layer 1: Convolutional. Input 32x32x1. Output 26x28x6.
    # 5x5 filter with an input depth 3 and an output depth of 6 (5, 5, 3, 6)
    conv1_W = tf.Variable(tf.truncated_normal(
        shape=(5, 5, 3, 6), mean=mu, stddev=sigma))
    conv1_b = tf.Variable(tf.zeros(6))
    conv1 = tf.nn.conv2d(x, conv1_W, strides=[
                         1, 1, 1, 1], padding='VALID') + conv1_b

    # Solution: Activation
    conv1 = tf.nn.relu(conv1)

    # Solution: Pooling. Input 28x28x6. Output 14x14x6.
    conv1 = tf.nn.max_pool(conv1, ksize=[1, 2, 2, 1], strides=[
                           1, 2, 2, 1], padding='VALID')

    # Solution: Layer 2. Output 10x10x16.
    conv2_W = tf.Variable(tf.truncated_normal(
        shape=(5, 5, 6, 16), mean=mu, stddev=sigma))
    conv2_b = tf.Variable(tf.zeros(16))
    conv2 = tf.nn.conv2d(conv1, conv2_W, strides=[
                         1, 1, 1, 1], padding='VALID') + conv2_b

    # Solution: Activation
    conv2 = tf.nn.relu(conv2)

    # Solution: Pooling. Input 10x10x16. Output 5x5x16
    conv2 = tf.nn.max_pool(conv2, ksize=[1, 2, 2, 1], strides=[
                           1, 2, 2, 1], padding='VALID')

    # Solution: Flatten. Input 5x5x16. Output = 400
    fc0 = flatten(conv2)

    # Solution: Layer 3. Fully Connected. Input = 400. Output = 120
    fc1_W = tf.Variable(tf.truncated_normal(
        shape=(400, 120), mean=mu, stddev=sigma))
    fc1_b = tf.Variable(tf.zeros(120))
    fc1 = tf.matmul(fc0, fc1_W) + fc1_b

    # Solution: Activation
    fc1 = tf.nn.relu(fc1)

    # Add dropout
    fc1 = tf.nn.dropout(fc1, keep_prob)

    # Solution: Layer 4. Fully Connected. Input = 120. Output = 84
    fc2_W = tf.Variable(tf.truncated_normal(
        shape=(120, 84), mean=mu, stddev=sigma))
    fc2_b = tf.Variable(tf.zeros(84))
    fc2 = tf.matmul(fc1, fc2_W) + fc2_b

    # Solution: Activation
    fc2 = tf.nn.relu(fc2)

    # Add dropout
    fc2 = tf.nn.dropout(fc2, keep_prob)

    # Solution: Layer 5. Fully Connected. Input = 84. Output = 43.
    fc3_W = tf.Variable(tf.truncated_normal(
        shape=(84, 43), mean=mu, stddev=sigma))
    fc3_b = tf.Variable(tf.zeros(43))
    logits = tf.matmul(fc2, fc3_W) + fc3_b

    return logits

# Define your architecture here.
# Feel free to use as many code cells as needed.

# ### Train, Validate and Test the Model
# A validation set can be used to assess how well the model is performing. A low accuracy on the training and validation
# sets imply underfitting. A high accuracy on the training set but low accuracy on the validation set implies overfitting.

# %%
# Train your model here.
# Calculate and report the accuracy on the training and validation set.
# Once a final model architecture is selected,
# the accuracy on the test set should be calculated and reported as well.
# Feel free to use as many code cells as needed.


# x is a place holder for a batch of input images. y is a placeholder for a batch of output labels.
x = tf.placeholder(tf.float32, (None, 32, 32, 3))
y = tf.placeholder(tf.int32, (None))
keep_prob = tf.placeholder(tf.float32, name="keep_prob")
one_hot_y = tf.one_hot(y, 43)

rate = 0.0021

logits = LeNet(x, keep_prob)

cross_entropy = tf.nn.softmax_cross_entropy_with_logits(
    labels=one_hot_y, logits=logits)
loss_operation = tf.reduce_mean(cross_entropy)
optimizer = tf.train.AdamOptimizer(learning_rate=rate)
training_operation = optimizer.minimize(loss_operation)

correct_prediction = tf.equal(tf.argmax(logits, 1), tf.argmax(one_hot_y, 1))
accuracy_operation = tf.reduce_mean(tf.cast(correct_prediction, tf.float32))
saver = tf.train.Saver()


def evaluate(X_data, y_data):
    num_examples = len(X_data)
    total_accuracy = 0
    sess = tf.get_default_session()
    for offset in range(0, num_examples, BATCH_SIZE):
        batch_x, batch_y = X_data[offset:offset + BATCH_SIZE], y_data[offset:offset+BATCH_SIZE]
        accuracy = sess.run(accuracy_operation, feed_dict={x: batch_x, y: batch_y, keep_prob: 0.92})
        total_accuracy += (accuracy * len(batch_x))
    return total_accuracy / num_examples


with tf.Session() as sess:
    sess.run(tf.global_variables_initializer())
    num_examples = len(X_train)

    print("Training...")
    print()
    validation_accuracy_figure = []
    for i in range(EPOCHS):
        X_train, y_train = shuffle(X_train, y_train)
        for offset in range(0, num_examples, BATCH_SIZE):
            end = offset + BATCH_SIZE
            batch_x, batch_y = X_train[offset:end], y_train[offset:end]
            sess.run(training_operation, feed_dict={x: batch_x, y: batch_y, keep_prob: 0.92})
            loss = sess.run(loss_operation, feed_dict={x: batch_x, y: batch_y, keep_prob: 0.92})
        validation_accuracy = evaluate(X_valid, y_valid)
        validation_accuracy_figure.append(validation_accuracy)
        print("EPOCH {} ...".format(i+1))
        print("Validation Accuracy = {:.3f}".format(validation_accuracy))
        print()

    saver.save(sess, './model')
    print('Model Saved')

    plt.plot(validation_accuracy_figure)
    plt.title("Validation Accuracy")
    plt.show()

# %% [markdown]
# ---
#
# ## Step 3: Test a Model on New Images
#
# To give yourself more insight into how your model is working, download at least five pictures of German traffic signs from the web and use your model to predict the traffic sign type.
#
# You may find `signnames.csv` useful as it contains mappings from the class id (integer) to the actual sign name.
# ### Load and Output the Images
# Load the images and plot them here.
# Feel free to use as many code cells as needed.
import  csv

try:
    os.chdir(os.path.join(
        os.getcwd(), 'Github/CarND-Traffic-Sign-Classifier-Project'))
    print(os.getcwd())
except:
    pass

path = os.path.join('./New_Images/')

labels  = []
with open('signnames.csv', 'r') as f:
    reader = csv.reader(f)
    for label in reader:
        labels.append(label[1])
labels = labels[1:]

print(labels[0:5],'...')

rows = 7
cols = 7
fig, axs = plt.subplots(rows,cols)
fig.set_size_inches(15,15)

for i in range(43):

    class_image = X_train[y_train==i]
    index = random.randint(0, len(class_image)-1)
    image = class_image[index]

    axs[int(i/rows)][i%cols].imshow(image)
    axs[int(i/rows)][i%cols].set_title(labels[i], fontsize=11)

plt.show()

def read_new_img(path, color=cv2.IMREAD_COLOR):

    images = []
    labels = []

    file_list = os.listdir(path)

    for file in file_list:
        try:
            img = cv2.imread(path + file, color)
        except:
            img = None

        if img is not None:
            img = cv2.cvtColor(img, cv2.COLOR_BGR2RGB)
            img = cv2.resize(img, (32, 32), interpolation=cv2.INTER_CUBIC)
            images.append(img)
            labels.append(file)

    return images, labels


new_img, new_label = read_new_img(path + '')
new_img = np.array(new_img)

implot = plt.figure(figsize=(15, 10))
for i in range(5):
    implot.add_subplot(2, 5, i + 1)
    ax1 = plt.grid(False)
    ax1 = plt.axis('off')
    plt.imshow(new_img[i])

    implot.add_subplot(1, 5, i + 1)
    ax2 = plt.grid(False)
    ax2 = plt.axis('off')
    plt.imshow(new_img[i][:, :, 0])

plt.show()


# %% [markdown]
# ### Predict the Sign Type for Each Image

from PIL import Image

img = np.zeros((5,32,32,3))
img[0,:,:,:] = np.array(Image.open(path + 'Keep Right.png').resize((32,32)))
img[1,:,:,:] = np.array(Image.open(path + 'No Entry.png').resize((32,32)))
img[2,:,:,:] = np.array(Image.open(path + 'Speed Limit (30km).png').resize((32,32)))
img[3,:,:,:] = np.array(Image.open(path + 'Stop.png').resize((32,32)))
img[4,:,:,:] = np.array(Image.open(path + 'Yield.png').resize((32,32)))

test_set = preprocessed(img, True)
test_label = np.array([38,17,1,14,13])

for j in range(test_label.shape[0]):
    plot_image(test_set[j,:,:,:],1,5,j+1,gray=True)

new_saver = tf.train.import_meta_graph('./model.meta')
with tf.Session() as sess:
    sess.run(tf.global_variables_initializer())
    new_saver.restore(sess, tf.train.latest_checkpoint('.'))
    output = sess.run(logits, feed_dict={x: test_set, keep_prob: 0.92})

# %%
# Run the predictions here and use the model to output the prediction for each image.
# Make sure to pre-process the images with the same pre-processing pipeline used earlier.
# Feel free to use as many code cells as needed.
# %% [markdown]
# ### Analyze Performance
with tf.Session() as sess:
    saver.restore(sess, './model')

    my_accuracy = evaluate(X_test, y_test)
    print("Test Accuracy = {:.3}".format(my_accuracy))


# %%
# Calculate the accuracy for these 5 new images.
# For example, if the model predicted 1 out of 5 signs correctly, it's 20% accurate on these new images.
# ### Output Top 5 Softmax Probabilities For Each Image Found on the Web
# For each of the new images, print out the model's softmax probabilities to show the **certainty** of the model's predictions (limit the output to the top 5 probabilities for each image). [`tf.nn.top_k`](https://www.tensorflow.org/versions/r0.12/api_docs/python/nn.html#top_k) could prove helpful here.
#
# The example below demonstrates how tf.nn.top_k can be used to find the top k predictions for each image.
#
# `tf.nn.top_k` will return the values and indices (class ids) of the top k predictions. So if k=3, for each sign, it'll return the 3 largest probabilities (out of a possible 43) and the correspoding class ids.
#
# Take this numpy array as an example. The values in the array represent predictions. The array contains softmax probabilities for five candidate images with six possible classes. `tf.nn.top_k` is used to choose the three classes with the highest probability:
#
# ```
# # (5, 6) array
# a = np.array([[ 0.24879643,  0.07032244,  0.12641572,  0.34763842,  0.07893497,
#          0.12789202],
#        [ 0.28086119,  0.27569815,  0.08594638,  0.0178669 ,  0.18063401,
#          0.15899337],
#        [ 0.26076848,  0.23664738,  0.08020603,  0.07001922,  0.1134371 ,
#          0.23892179],
#        [ 0.11943333,  0.29198961,  0.02605103,  0.26234032,  0.1351348 ,
#          0.16505091],
#        [ 0.09561176,  0.34396535,  0.0643941 ,  0.16240774,  0.24206137,
#          0.09155967]])
# ```
#
# Running it through `sess.run(tf.nn.top_k(tf.constant(a), k=3))` produces:
#
# ```
# TopKV2(values=array([[ 0.34763842,  0.24879643,  0.12789202],
#        [ 0.28086119,  0.27569815,  0.18063401],
#        [ 0.26076848,  0.23892179,  0.23664738],
#        [ 0.29198961,  0.26234032,  0.16505091],
#        [ 0.34396535,  0.24206137,  0.16240774]]), indices=array([[3, 0, 5],
#        [0, 1, 4],
#        [0, 5, 1],
#        [1, 3, 5],
#        [1, 4, 3]], dtype=int32))
# ```
#
# Looking just at the first row we get `[ 0.34763842,  0.24879643,  0.12789202]`, you can confirm these are the 3 largest probabilities in `a`. You'll also notice `[3, 0, 5]` are the corresponding indices.

# %%
# Print out the top five softmax probabilities for the predictions on the German traffic sign images found on the web.
# Feel free to use as many code cells as needed.

try:
    os.chdir(os.path.join(
        os.getcwd(), 'Github/CarND-Traffic-Sign-Classifier-Project'))
    print(os.getcwd())
except:
    pass

path = os.path.join('/New_Images/')


my_images = []

for i, img in enumerate(glob.glob(path + '*.png')):
    image = cv2.imread(img)
    axs[i].axis('off')
    axs[i].imshow(cv2.cvtColor(image, cv2.COLOR_BGR2RGB))
    my_images.append(image)


new_img = np.asarray(new_img)
new_img_norm = normalize(new_img)

print(new_img_norm.shape)

new_label = [38,17,1,14,13]

with tf.Session() as sess:
    sess.run(tf.global_variables_initializer())
    saver3 = tf.train.import_meta_graph('./model.meta')
    saver3.restore(sess, "./model")
    my_accuracy = evaluate(test_set, new_label)
    print("Test Set Accuracy = {:.3f}".format(my_accuracy))
    
softmax_logits = tf.nn.softmax(logits)
top_k = tf.nn.top_k(softmax_logits, k=3)

with tf.Session() as sess:
    sess.run(tf.global_variables_initializer())
    saver = tf.train.import_meta_graph('./model.meta')
    saver.restore(sess, "./model")
    my_softmax_logits = sess.run(softmax_logits, feed_dict={x: new_img_norm, keep_prob: 0.92})
    my_top_k = sess.run(top_k, feed_dict={x: new_img_norm, keep_prob: 0.92})

    fig, axs = plt.subplots(len(new_img),4, figsize=(12, 14))
    fig.subplots_adjust(hspace = .4, wspace=.2)
    axs = axs.ravel()

    for i, image in enumerate(new_img):
        axs[4*i].axis('off')
        axs[4*i].imshow(cv2.cvtColor(image, cv2.COLOR_BGR2RGB))
        axs[4*i].set_title('input')
        guess1 = my_top_k[1][i][0]
        index1 = np.argwhere(y_valid == guess1)[0]
        axs[4*i+1].axis('off')
        axs[4*i+1].imshow(X_valid[index1].squeeze(), cmap='gray')
        axs[4*i+1].set_title('top guess: {} ({:.0f}%)'.format(guess1, 100*my_top_k[0][i][0]))
        guess2 = my_top_k[1][i][1]
        index2 = np.argwhere(y_valid == guess2)[0]
        axs[4*i+2].axis('off')
        axs[4*i+2].imshow(X_valid[index2].squeeze(), cmap='gray')
        axs[4*i+2].set_title('2nd guess: {} ({:.0f}%)'.format(guess2, 100*my_top_k[0][i][1]))
        guess3 = my_top_k[1][i][2]
        index3 = np.argwhere(y_valid == guess3)[0]
        axs[4*i+3].axis('off')
        axs[4*i+3].imshow(X_valid[index3].squeeze(), cmap='gray')
        axs[4*i+3].set_title('3rd guess: {} ({:.0f}%)'.format(guess3, 100*my_top_k[0][i][2]))


# %% [markdown]
# ### Project Writeup
#
# Once you have completed the code implementation, document your results in a project writeup using this [template](https://github.com/udacity/CarND-Traffic-Sign-Classifier-Project/blob/master/writeup_template.md) as a guide. The writeup can be in a markdown or pdf file.
# %% [markdown]
# > **Note**: Once you have completed all of the code implementations and successfully answered each question above, you may finalize your work by exporting the iPython Notebook as an HTML document. You can do this by using the menu above and navigating to  \n",
#     "**File -> Download as -> HTML (.html)**. Include the finished document along with this notebook as your submission.
# %% [markdown]
# ---
#
# ## Step 4 (Optional): Visualize the Neural Network's State with Test Images
#
#  This Section is not required to complete but acts as an additional excersise for understaning the output of a neural network's weights. While neural networks can be a great learning device they are often referred to as a black box. We can understand what the weights of a neural network look like better by plotting their feature maps. After successfully training your neural network you can see what it's feature maps look like by plotting the output of the network's weight layers in response to a test stimuli image. From these plotted feature maps, it's possible to see what characteristics of an image the network finds interesting. For a sign, maybe the inner network feature maps react with high activation to the sign's boundary outline or to the contrast in the sign's painted symbol.
#
#  Provided for you below is the function code that allows you to get the visualization output of any tensorflow weight layer you want. The inputs to the function should be a stimuli image, one used during training or a new one you provided, and then the tensorflow variable name that represents the layer's state during the training process, for instance if you wanted to see what the [LeNet lab's](https://classroom.udacity.com/nanodegrees/nd013/parts/fbf77062-5703-404e-b60c-95b78b2f3f9e/modules/6df7ae49-c61c-4bb2-a23e-6527e69209ec/lessons/601ae704-1035-4287-8b11-e2c2716217ad/concepts/d4aca031-508f-4e0b-b493-e7b706120f81) feature maps looked like for it's second convolutional layer you could enter conv2 as the tf_activation variable.
#
# For an example of what feature map outputs look like, check out NVIDIA's results in their paper [End-to-End Deep Learning for Self-Driving Cars](https://devblogs.nvidia.com/parallelforall/deep-learning-self-driving-cars/) in the section Visualization of internal CNN State. NVIDIA was able to show that their network's inner weights had high activations to road boundary lines by comparing feature maps from an image with a clear path to one without. Try experimenting with a similar test to show that your trained network's weights are looking for interesting features, whether it's looking at differences in feature maps from images with or without a sign, or even what feature maps look like in a trained network vs a completely untrained one on the same sign image.
#
# <figure>
#  <img src="visualize_cnn.png" width="380" alt="Combined Image" />
#  <figcaption>
#  <p></p>
#  <p style="text-align: center;"> Your output should look something like this (above)</p>
#  </figcaption>
# </figure>
#  <p></p>
#

# %%
# Visualize your network's feature maps here.
# Feel free to use as many code cells as needed.

# image_input: the test image being fed into the network to produce the feature maps
# tf_activation: should be a tf variable name used during your training procedure that represents the calculated state of a specific weight layer
# activation_min/max: can be used to view the activation contrast in more detail, by default matplot sets min and max to the actual min and max values of the output
# plt_num: used to plot out multiple different weight feature map sets on the same block, just extend the plt number for each new feature map entry


def outputFeatureMap(image_input, tf_activation, activation_min=-1, activation_max=-1, plt_num=1):
    # Here make sure to preprocess your image_input in a way your network expects
    # with size, normalization, ect if needed
    # image_input =
    # Note: x should be the same name as your network's tensorflow data placeholder variable
    # If you get an error tf_activation is not defined it may be having trouble accessing the variable from inside a function
    activation = tf_activation.eval(session=sess, feed_dict={x: image_input})
    featuremaps = activation.shape[3]
    plt.figure(plt_num, figsize=(15, 15))
    for featuremap in range(featuremaps):
        # sets the number of feature maps to show on each row and column
        plt.subplot(6, 8, featuremap+1)
        # displays the feature map number
        plt.title('FeatureMap ' + str(featuremap))
        if activation_min != -1 & activation_max != -1:
            plt.imshow(activation[0, :, :, featuremap], interpolation="nearest",
                       vmin=activation_min, vmax=activation_max, cmap="gray")
        elif activation_max != -1:
            plt.imshow(activation[0, :, :, featuremap], interpolation="nearest", vmax=activation_max, cmap="gray")
        elif activation_min != -1:
            plt.imshow(activation[0, :, :, featuremap], interpolation="nearest", vmin=activation_min, cmap="gray")
        else:
            plt.imshow(activation[0, :, :, featuremap], interpolation="nearest", cmap="gray")
